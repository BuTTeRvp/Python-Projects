{
 "cells": [
  {
   "cell_type": "code",
   "execution_count": null,
   "metadata": {},
   "outputs": [],
   "source": [
    "#add 25 to a given number\n",
    "func = lambda x: x + 25\n",
    "print(func(5.0))"
   ]
  },
  {
   "cell_type": "code",
   "execution_count": 8,
   "metadata": {},
   "outputs": [
    {
     "name": "stdout",
     "output_type": "stream",
     "text": [
      "Given Number 1.0 + 25 is 26.0\n"
     ]
    }
   ],
   "source": [
    "#with input\n",
    "inpu= float(input(\"Enter a number\"))\n",
    "func = lambda inpu: inpu + 25\n",
    "func(inpu)\n",
    "print(\"Given Number %s + 25 is %s\" %(inpu,(func(inpu))))\n"
   ]
  },
  {
   "cell_type": "code",
   "execution_count": null,
   "metadata": {},
   "outputs": [],
   "source": []
  }
 ],
 "metadata": {
  "interpreter": {
   "hash": "1624c96b126e70e544fca7717e6017f6a5df3fe969bb65998aafb8bf0d539e8c"
  },
  "kernelspec": {
   "display_name": "Python 3.9.7 64-bit",
   "language": "python",
   "name": "python3"
  },
  "language_info": {
   "codemirror_mode": {
    "name": "ipython",
    "version": 3
   },
   "file_extension": ".py",
   "mimetype": "text/x-python",
   "name": "python",
   "nbconvert_exporter": "python",
   "pygments_lexer": "ipython3",
   "version": "3.9.7"
  },
  "orig_nbformat": 4
 },
 "nbformat": 4,
 "nbformat_minor": 2
}
