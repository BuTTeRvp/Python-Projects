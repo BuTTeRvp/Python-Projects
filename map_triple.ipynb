{
 "cells": [
  {
   "cell_type": "code",
   "execution_count": null,
   "metadata": {},
   "outputs": [],
   "source": [
    "#lambda to 3*n for n  numbers in a given list.\n",
    "num = [1, 2, 3, 4, 5, 6, 7]\n",
    "\n",
    "x = map(lambda x: x*3, num)\n",
    "print(list(x))"
   ]
  },
  {
   "cell_type": "code",
   "execution_count": null,
   "metadata": {},
   "outputs": [],
   "source": [
    "# v2\n",
    "numtriple = list(map(lambda x: x*3, num ))\n",
    "numtriple"
   ]
  },
  {
   "cell_type": "code",
   "execution_count": 11,
   "metadata": {},
   "outputs": [
    {
     "name": "stdout",
     "output_type": "stream",
     "text": [
      "[3.3000000000000003, 6.8999999999999995]\n"
     ]
    }
   ],
   "source": [
    "#with input\n",
    "num = input(\"Enter comma separated numbers\")\n",
    "num_list = [float(x) for x in num.split(\",\")]\n",
    "print(list(map(lambda x: x*3, num_list)))\n",
    "\n"
   ]
  },
  {
   "cell_type": "code",
   "execution_count": null,
   "metadata": {},
   "outputs": [],
   "source": [
    "\n"
   ]
  },
  {
   "cell_type": "code",
   "execution_count": null,
   "metadata": {},
   "outputs": [],
   "source": []
  }
 ],
 "metadata": {
  "interpreter": {
   "hash": "1624c96b126e70e544fca7717e6017f6a5df3fe969bb65998aafb8bf0d539e8c"
  },
  "kernelspec": {
   "display_name": "Python 3.9.7 64-bit",
   "language": "python",
   "name": "python3"
  },
  "language_info": {
   "codemirror_mode": {
    "name": "ipython",
    "version": 3
   },
   "file_extension": ".py",
   "mimetype": "text/x-python",
   "name": "python",
   "nbconvert_exporter": "python",
   "pygments_lexer": "ipython3",
   "version": "3.9.7"
  },
  "orig_nbformat": 4
 },
 "nbformat": 4,
 "nbformat_minor": 2
}
