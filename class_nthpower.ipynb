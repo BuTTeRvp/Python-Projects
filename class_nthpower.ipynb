{
 "cells": [
  {
   "cell_type": "code",
   "execution_count": 160,
   "metadata": {},
   "outputs": [
    {
     "data": {
      "text/plain": [
       "'-2.2 to the power  -2 is 0.20661157024793386'"
      ]
     },
     "execution_count": 160,
     "metadata": {},
     "output_type": "execute_result"
    }
   ],
   "source": [
    "class Num:                         #takes only 1 parameter value , it can be (int / float)\n",
    "    def __init__(self, value):         \n",
    "        self.value = value\n",
    "\n",
    "    def power(self,pwr):           \n",
    "        nth_power = (self.value) ** pwr\n",
    "        return (\"%s to the power  %s is %s\" ) %(self.value, pwr,nth_power)\n",
    "\n",
    "    \n",
    "        \n",
    "num1 = Num(-2.2)\n",
    "num2 = Num(3)\n",
    "num3 = Num(4)\n",
    "num4 = Num(5)\n",
    "num5 = Num(6)\n",
    "num6 = Num(7)\n",
    "num1.power(-2)"
   ]
  }
 ],
 "metadata": {
  "interpreter": {
   "hash": "1624c96b126e70e544fca7717e6017f6a5df3fe969bb65998aafb8bf0d539e8c"
  },
  "kernelspec": {
   "display_name": "Python 3.9.7 64-bit",
   "language": "python",
   "name": "python3"
  },
  "language_info": {
   "codemirror_mode": {
    "name": "ipython",
    "version": 3
   },
   "file_extension": ".py",
   "mimetype": "text/x-python",
   "name": "python",
   "nbconvert_exporter": "python",
   "pygments_lexer": "ipython3",
   "version": "3.9.7"
  },
  "orig_nbformat": 4
 },
 "nbformat": 4,
 "nbformat_minor": 2
}
