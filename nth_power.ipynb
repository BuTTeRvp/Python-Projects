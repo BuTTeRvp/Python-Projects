{
 "cells": [
  {
   "cell_type": "code",
   "execution_count": null,
   "metadata": {},
   "outputs": [],
   "source": [
    "#lambda -> Square the list of numbers\n",
    "num = [4, 5, 2, 9]\n",
    "print (list(map(lambda x: x*x, num)))\n"
   ]
  },
  {
   "cell_type": "code",
   "execution_count": 33,
   "metadata": {},
   "outputs": [
    {
     "name": "stdout",
     "output_type": "stream",
     "text": [
      "[1.0, 4.0, 9.0, 16.0]\n"
     ]
    }
   ],
   "source": [
    "# with input \n",
    "num = input(\"Enter comma separated numbers\")  # user input \n",
    "num_list = [float(x) for x in num.split(\",\")]   #-> list of int from user input \n",
    "print(list(map(lambda x : x*x, num_list)))    #apply lambda to all the iterable in list"
   ]
  },
  {
   "cell_type": "code",
   "execution_count": 35,
   "metadata": {},
   "outputs": [
    {
     "name": "stdout",
     "output_type": "stream",
     "text": [
      "[1.0, 3.263127334322092, 5.196152422706632]\n"
     ]
    }
   ],
   "source": [
    "# raise to nth power  \n",
    "num = input(\"Enter comma separated numbers\")\n",
    "num_list = [float(x) for x in num.split(\",\")]\n",
    "power = float(input(\"What power should i raise these numbers too?\"))\n",
    "for x in num_list:\n",
    "    if isinstance(x,(float,float)) and isinstance(power,(float,float)):\n",
    "        print(list(map(lambda x : x**power, num_list)))\n",
    "        break\n",
    "    else:\n",
    "        print(\"Invalid Input\")\n",
    "        break"
   ]
  },
  {
   "cell_type": "code",
   "execution_count": null,
   "metadata": {},
   "outputs": [],
   "source": []
  },
  {
   "cell_type": "code",
   "execution_count": null,
   "metadata": {},
   "outputs": [],
   "source": []
  },
  {
   "cell_type": "code",
   "execution_count": null,
   "metadata": {},
   "outputs": [],
   "source": []
  }
 ],
 "metadata": {
  "interpreter": {
   "hash": "1624c96b126e70e544fca7717e6017f6a5df3fe969bb65998aafb8bf0d539e8c"
  },
  "kernelspec": {
   "display_name": "Python 3.9.7 64-bit",
   "language": "python",
   "name": "python3"
  },
  "language_info": {
   "codemirror_mode": {
    "name": "ipython",
    "version": 3
   },
   "file_extension": ".py",
   "mimetype": "text/x-python",
   "name": "python",
   "nbconvert_exporter": "python",
   "pygments_lexer": "ipython3",
   "version": "3.9.7"
  },
  "orig_nbformat": 4
 },
 "nbformat": 4,
 "nbformat_minor": 2
}
